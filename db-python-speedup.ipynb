{
 "cells": [
  {
   "cell_type": "markdown",
   "id": "5d681704",
   "metadata": {
    "slideshow": {
     "slide_type": "slide"
    }
   },
   "source": [
    "\n",
    "# Speeding up your Python Code\n",
    "\n",
    "\n",
    "## Pete Lawson, PhD\n",
    "\n",
    "\n",
    "<i class=\"fa fa-github\"> <a href =\"https://github.com/pete-lawson\">github.com/pete-lawson</a></i>\n",
    "\n",
    "<i class=\"fa fa-envelope\"> <a href =\"plawson@jhu.edu\">plawson@jhu.edu</a></i>\n",
    "\n",
    "<img src=\"images/data-bytes-logo.png\" align = \"left\" width = \"300\">\n"
   ]
  },
  {
   "cell_type": "markdown",
   "id": "82d65a24",
   "metadata": {
    "slideshow": {
     "slide_type": "slide"
    }
   },
   "source": [
    "# Why speed up your `python` code?"
   ]
  },
  {
   "cell_type": "code",
   "execution_count": 64,
   "id": "92b0fc10",
   "metadata": {
    "slideshow": {
     "slide_type": "subslide"
    }
   },
   "outputs": [
    {
     "name": "stdout",
     "output_type": "stream",
     "text": [
      "[40, 51, 16, 60, 14, 99, 40, 42, 79, 46]\n",
      "\n",
      "Runtime is 0.00023 seconds\n"
     ]
    }
   ],
   "source": [
    "import random\n",
    "import time \n",
    "\n",
    "start = time.time()\n",
    "\n",
    "random_list = []\n",
    "for i in range(0, 10):\n",
    "    rand = random.randint(1, 100)\n",
    "    random_list.append(rand)\n",
    "print(random_list)\n",
    "\n",
    "end = time.time()\n",
    "t1 = end - start\n",
    "\n",
    "print(f'\\nRuntime is {t1:.5f} seconds')"
   ]
  },
  {
   "cell_type": "code",
   "execution_count": 65,
   "id": "a87289c8",
   "metadata": {
    "slideshow": {
     "slide_type": "subslide"
    }
   },
   "outputs": [
    {
     "name": "stdout",
     "output_type": "stream",
     "text": [
      "[9, 256, 2401, 3969, 2025, 7744, 3844, 2809, 784, 5329]\n",
      "\n",
      "Runtime is 8.40862 seconds and took 36,776 times as long as the first function!\n"
     ]
    }
   ],
   "source": [
    "start2 = time.time()\n",
    "\n",
    "random_list = []\n",
    "for i in range(0, 10000000):\n",
    "    rand = random.randint(1, 100)\n",
    "    random_list.append(rand)\n",
    "    \n",
    "for i in range(0, len(random_list)):\n",
    "    random_list[i] = random_list[i] ** 2\n",
    "print(random_list[0:10])\n",
    "\n",
    "end2 = time.time()\n",
    "t2 = end2 - start2\n",
    "\n",
    "print(f'\\nRuntime is {t2:.5f} seconds and took {(t2/t1):,.0f} times as long as the first function!')"
   ]
  },
  {
   "cell_type": "code",
   "execution_count": null,
   "id": "106497d0",
   "metadata": {},
   "outputs": [],
   "source": []
  }
 ],
 "metadata": {
  "celltoolbar": "Slideshow",
  "kernelspec": {
   "display_name": "Python 3 (ipykernel)",
   "language": "python",
   "name": "python3"
  },
  "language_info": {
   "codemirror_mode": {
    "name": "ipython",
    "version": 3
   },
   "file_extension": ".py",
   "mimetype": "text/x-python",
   "name": "python",
   "nbconvert_exporter": "python",
   "pygments_lexer": "ipython3",
   "version": "3.10.4"
  }
 },
 "nbformat": 4,
 "nbformat_minor": 5
}
